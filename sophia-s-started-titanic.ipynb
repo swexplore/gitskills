{
 "cells": [
  {
   "cell_type": "code",
   "execution_count": 1,
   "id": "5acaada7",
   "metadata": {
    "_cell_guid": "b1076dfc-b9ad-4769-8c92-a6c4dae69d19",
    "_uuid": "8f2839f25d086af736a60e9eeb907d3b93b6e0e5",
    "execution": {
     "iopub.execute_input": "2022-11-17T03:32:26.421326Z",
     "iopub.status.busy": "2022-11-17T03:32:26.420807Z",
     "iopub.status.idle": "2022-11-17T03:32:27.679932Z",
     "shell.execute_reply": "2022-11-17T03:32:27.678260Z"
    },
    "papermill": {
     "duration": 1.273815,
     "end_time": "2022-11-17T03:32:27.683442",
     "exception": false,
     "start_time": "2022-11-17T03:32:26.409627",
     "status": "completed"
    },
    "tags": []
   },
   "outputs": [
    {
     "name": "stdout",
     "output_type": "stream",
     "text": [
      "/kaggle/input/titanic/train.csv\n",
      "/kaggle/input/titanic/test.csv\n",
      "/kaggle/input/titanic/gender_submission.csv\n"
     ]
    }
   ],
   "source": [
    "# This Python 3 environment comes with many helpful analytics libraries installed\n",
    "# It is defined by the kaggle/python Docker image: https://github.com/kaggle/docker-python\n",
    "# For example, here's several helpful packages to load\n",
    "\n",
    "import numpy as np # linear algebra\n",
    "import pandas as pd # data processing, CSV file I/O (e.g. pd.read_csv)\n",
    "import matplotlib.pyplot as plt\n",
    "import seaborn as sns\n",
    "import warnings\n",
    "import sklearn\n",
    "warnings.filterwarnings('ignore')\n",
    "%matplotlib inline\n",
    "\n",
    "# Input data files are available in the read-only \"../input/\" directory\n",
    "# For example, running this (by clicking run or pressing Shift+Enter) will list all files under the input directory\n",
    "\n",
    "import os\n",
    "for dirname, _, filenames in os.walk('/kaggle/input'):\n",
    "    for filename in filenames:\n",
    "        print(os.path.join(dirname, filename))\n",
    "\n",
    "# You can write up to 20GB to the current directory (/kaggle/working/) that gets preserved as output when you create a version using \"Save & Run All\" \n",
    "# You can also write temporary files to /kaggle/temp/, but they won't be saved outside of the current session"
   ]
  },
  {
   "cell_type": "code",
   "execution_count": 2,
   "id": "3c792971",
   "metadata": {
    "execution": {
     "iopub.execute_input": "2022-11-17T03:32:27.703210Z",
     "iopub.status.busy": "2022-11-17T03:32:27.702005Z",
     "iopub.status.idle": "2022-11-17T03:32:27.753550Z",
     "shell.execute_reply": "2022-11-17T03:32:27.752393Z"
    },
    "papermill": {
     "duration": 0.064142,
     "end_time": "2022-11-17T03:32:27.756185",
     "exception": false,
     "start_time": "2022-11-17T03:32:27.692043",
     "status": "completed"
    },
    "tags": []
   },
   "outputs": [
    {
     "data": {
      "text/html": [
       "<div>\n",
       "<style scoped>\n",
       "    .dataframe tbody tr th:only-of-type {\n",
       "        vertical-align: middle;\n",
       "    }\n",
       "\n",
       "    .dataframe tbody tr th {\n",
       "        vertical-align: top;\n",
       "    }\n",
       "\n",
       "    .dataframe thead th {\n",
       "        text-align: right;\n",
       "    }\n",
       "</style>\n",
       "<table border=\"1\" class=\"dataframe\">\n",
       "  <thead>\n",
       "    <tr style=\"text-align: right;\">\n",
       "      <th></th>\n",
       "      <th>PassengerId</th>\n",
       "      <th>Pclass</th>\n",
       "      <th>Name</th>\n",
       "      <th>Sex</th>\n",
       "      <th>Age</th>\n",
       "      <th>SibSp</th>\n",
       "      <th>Parch</th>\n",
       "      <th>Ticket</th>\n",
       "      <th>Fare</th>\n",
       "      <th>Cabin</th>\n",
       "      <th>Embarked</th>\n",
       "    </tr>\n",
       "  </thead>\n",
       "  <tbody>\n",
       "    <tr>\n",
       "      <th>0</th>\n",
       "      <td>892</td>\n",
       "      <td>3</td>\n",
       "      <td>Kelly, Mr. James</td>\n",
       "      <td>male</td>\n",
       "      <td>34.5</td>\n",
       "      <td>0</td>\n",
       "      <td>0</td>\n",
       "      <td>330911</td>\n",
       "      <td>7.8292</td>\n",
       "      <td>NaN</td>\n",
       "      <td>Q</td>\n",
       "    </tr>\n",
       "    <tr>\n",
       "      <th>1</th>\n",
       "      <td>893</td>\n",
       "      <td>3</td>\n",
       "      <td>Wilkes, Mrs. James (Ellen Needs)</td>\n",
       "      <td>female</td>\n",
       "      <td>47.0</td>\n",
       "      <td>1</td>\n",
       "      <td>0</td>\n",
       "      <td>363272</td>\n",
       "      <td>7.0000</td>\n",
       "      <td>NaN</td>\n",
       "      <td>S</td>\n",
       "    </tr>\n",
       "    <tr>\n",
       "      <th>2</th>\n",
       "      <td>894</td>\n",
       "      <td>2</td>\n",
       "      <td>Myles, Mr. Thomas Francis</td>\n",
       "      <td>male</td>\n",
       "      <td>62.0</td>\n",
       "      <td>0</td>\n",
       "      <td>0</td>\n",
       "      <td>240276</td>\n",
       "      <td>9.6875</td>\n",
       "      <td>NaN</td>\n",
       "      <td>Q</td>\n",
       "    </tr>\n",
       "    <tr>\n",
       "      <th>3</th>\n",
       "      <td>895</td>\n",
       "      <td>3</td>\n",
       "      <td>Wirz, Mr. Albert</td>\n",
       "      <td>male</td>\n",
       "      <td>27.0</td>\n",
       "      <td>0</td>\n",
       "      <td>0</td>\n",
       "      <td>315154</td>\n",
       "      <td>8.6625</td>\n",
       "      <td>NaN</td>\n",
       "      <td>S</td>\n",
       "    </tr>\n",
       "    <tr>\n",
       "      <th>4</th>\n",
       "      <td>896</td>\n",
       "      <td>3</td>\n",
       "      <td>Hirvonen, Mrs. Alexander (Helga E Lindqvist)</td>\n",
       "      <td>female</td>\n",
       "      <td>22.0</td>\n",
       "      <td>1</td>\n",
       "      <td>1</td>\n",
       "      <td>3101298</td>\n",
       "      <td>12.2875</td>\n",
       "      <td>NaN</td>\n",
       "      <td>S</td>\n",
       "    </tr>\n",
       "  </tbody>\n",
       "</table>\n",
       "</div>"
      ],
      "text/plain": [
       "   PassengerId  Pclass                                          Name     Sex  \\\n",
       "0          892       3                              Kelly, Mr. James    male   \n",
       "1          893       3              Wilkes, Mrs. James (Ellen Needs)  female   \n",
       "2          894       2                     Myles, Mr. Thomas Francis    male   \n",
       "3          895       3                              Wirz, Mr. Albert    male   \n",
       "4          896       3  Hirvonen, Mrs. Alexander (Helga E Lindqvist)  female   \n",
       "\n",
       "    Age  SibSp  Parch   Ticket     Fare Cabin Embarked  \n",
       "0  34.5      0      0   330911   7.8292   NaN        Q  \n",
       "1  47.0      1      0   363272   7.0000   NaN        S  \n",
       "2  62.0      0      0   240276   9.6875   NaN        Q  \n",
       "3  27.0      0      0   315154   8.6625   NaN        S  \n",
       "4  22.0      1      1  3101298  12.2875   NaN        S  "
      ]
     },
     "execution_count": 2,
     "metadata": {},
     "output_type": "execute_result"
    }
   ],
   "source": [
    "# load the data\n",
    "train_data = pd.read_csv('/kaggle/input/titanic/train.csv')\n",
    "test_data = pd.read_csv('/kaggle/input/titanic/test.csv')\n",
    "train_data.head()\n",
    "test_data.head()"
   ]
  },
  {
   "cell_type": "code",
   "execution_count": 3,
   "id": "8eed4a1b",
   "metadata": {
    "execution": {
     "iopub.execute_input": "2022-11-17T03:32:27.775945Z",
     "iopub.status.busy": "2022-11-17T03:32:27.775102Z",
     "iopub.status.idle": "2022-11-17T03:32:27.789183Z",
     "shell.execute_reply": "2022-11-17T03:32:27.787838Z"
    },
    "papermill": {
     "duration": 0.026855,
     "end_time": "2022-11-17T03:32:27.791683",
     "exception": false,
     "start_time": "2022-11-17T03:32:27.764828",
     "status": "completed"
    },
    "tags": []
   },
   "outputs": [
    {
     "name": "stdout",
     "output_type": "stream",
     "text": [
      "% of women who survived: 0.7420382165605095\n"
     ]
    }
   ],
   "source": [
    "women = train_data.loc[train_data.Sex == 'female'][\"Survived\"]\n",
    "rate_women = sum(women)/len(women)\n",
    "print(\"% of women who survived:\", rate_women)"
   ]
  },
  {
   "cell_type": "code",
   "execution_count": 4,
   "id": "a413fb8b",
   "metadata": {
    "execution": {
     "iopub.execute_input": "2022-11-17T03:32:27.810763Z",
     "iopub.status.busy": "2022-11-17T03:32:27.810345Z",
     "iopub.status.idle": "2022-11-17T03:32:27.818540Z",
     "shell.execute_reply": "2022-11-17T03:32:27.817104Z"
    },
    "papermill": {
     "duration": 0.020382,
     "end_time": "2022-11-17T03:32:27.820744",
     "exception": false,
     "start_time": "2022-11-17T03:32:27.800362",
     "status": "completed"
    },
    "tags": []
   },
   "outputs": [
    {
     "name": "stdout",
     "output_type": "stream",
     "text": [
      "% of men who survived: 0.18890814558058924\n"
     ]
    }
   ],
   "source": [
    "men = train_data.loc[train_data.Sex == 'male'][\"Survived\"]\n",
    "rate_men = sum(men)/len(men)\n",
    "print(\"% of men who survived:\", rate_men)"
   ]
  },
  {
   "cell_type": "markdown",
   "id": "dd9fad09",
   "metadata": {
    "papermill": {
     "duration": 0.00826,
     "end_time": "2022-11-17T03:32:27.837790",
     "exception": false,
     "start_time": "2022-11-17T03:32:27.829530",
     "status": "completed"
    },
    "tags": []
   },
   "source": [
    "# missing values"
   ]
  },
  {
   "cell_type": "code",
   "execution_count": 5,
   "id": "7dd60f60",
   "metadata": {
    "execution": {
     "iopub.execute_input": "2022-11-17T03:32:27.858297Z",
     "iopub.status.busy": "2022-11-17T03:32:27.857850Z",
     "iopub.status.idle": "2022-11-17T03:32:27.871230Z",
     "shell.execute_reply": "2022-11-17T03:32:27.869824Z"
    },
    "papermill": {
     "duration": 0.026897,
     "end_time": "2022-11-17T03:32:27.874751",
     "exception": false,
     "start_time": "2022-11-17T03:32:27.847854",
     "status": "completed"
    },
    "tags": []
   },
   "outputs": [
    {
     "data": {
      "text/plain": [
       "PassengerId      0\n",
       "Pclass           0\n",
       "Name             0\n",
       "Sex              0\n",
       "Age             86\n",
       "SibSp            0\n",
       "Parch            0\n",
       "Ticket           0\n",
       "Fare             1\n",
       "Cabin          327\n",
       "Embarked         0\n",
       "dtype: int64"
      ]
     },
     "execution_count": 5,
     "metadata": {},
     "output_type": "execute_result"
    }
   ],
   "source": [
    "train_data.isnull().sum()\n",
    "test_data.isnull().sum()"
   ]
  },
  {
   "cell_type": "markdown",
   "id": "4ce186f8",
   "metadata": {
    "papermill": {
     "duration": 0.008622,
     "end_time": "2022-11-17T03:32:27.892495",
     "exception": false,
     "start_time": "2022-11-17T03:32:27.883873",
     "status": "completed"
    },
    "tags": []
   },
   "source": [
    "# Age - Missing Values\n",
    "# data conduct"
   ]
  },
  {
   "cell_type": "code",
   "execution_count": 6,
   "id": "fc8406d0",
   "metadata": {
    "execution": {
     "iopub.execute_input": "2022-11-17T03:32:27.913154Z",
     "iopub.status.busy": "2022-11-17T03:32:27.912688Z",
     "iopub.status.idle": "2022-11-17T03:32:28.183160Z",
     "shell.execute_reply": "2022-11-17T03:32:28.181526Z"
    },
    "papermill": {
     "duration": 0.284336,
     "end_time": "2022-11-17T03:32:28.185990",
     "exception": false,
     "start_time": "2022-11-17T03:32:27.901654",
     "status": "completed"
    },
    "tags": []
   },
   "outputs": [
    {
     "data": {
      "image/png": "[encoded data removed]",
      "text/plain": [
       "<Figure size 432x288 with 1 Axes>"
      ]
     },
     "metadata": {
      "needs_background": "light"
     },
     "output_type": "display_data"
    }
   ],
   "source": [
    "ax = train_data['Age'].hist(bins=15, density=True, stacked=True, alpha=0.7)\n",
    "\n",
    "train_data['Age'].plot(kind='density')\n",
    "\n",
    "ax.set(xlabel='Age')\n",
    "plt.xlim(0, 90)\n",
    "plt.grid()\n",
    "plt.show()"
   ]
  },
  {
   "cell_type": "code",
   "execution_count": 7,
   "id": "4d8eb32e",
   "metadata": {
    "execution": {
     "iopub.execute_input": "2022-11-17T03:32:28.206536Z",
     "iopub.status.busy": "2022-11-17T03:32:28.205596Z",
     "iopub.status.idle": "2022-11-17T03:32:28.216440Z",
     "shell.execute_reply": "2022-11-17T03:32:28.215564Z"
    },
    "papermill": {
     "duration": 0.023349,
     "end_time": "2022-11-17T03:32:28.218580",
     "exception": false,
     "start_time": "2022-11-17T03:32:28.195231",
     "status": "completed"
    },
    "tags": []
   },
   "outputs": [
    {
     "data": {
      "text/plain": [
       "27.0"
      ]
     },
     "execution_count": 7,
     "metadata": {},
     "output_type": "execute_result"
    }
   ],
   "source": [
    "train_data['Age'].mean(skipna=True)\n",
    "test_data['Age'].mean(skipna=True)\n",
    "train_data['Age'].median(skipna=True)\n",
    "test_data['Age'].median(skipna=True)"
   ]
  },
  {
   "cell_type": "markdown",
   "id": "84c2165d",
   "metadata": {
    "papermill": {
     "duration": 0.008941,
     "end_time": "2022-11-17T03:32:28.236774",
     "exception": false,
     "start_time": "2022-11-17T03:32:28.227833",
     "status": "completed"
    },
    "tags": []
   },
   "source": [
    "# port description"
   ]
  },
  {
   "cell_type": "code",
   "execution_count": 8,
   "id": "ea2585c8",
   "metadata": {
    "execution": {
     "iopub.execute_input": "2022-11-17T03:32:28.257415Z",
     "iopub.status.busy": "2022-11-17T03:32:28.256676Z",
     "iopub.status.idle": "2022-11-17T03:32:28.394728Z",
     "shell.execute_reply": "2022-11-17T03:32:28.393279Z"
    },
    "papermill": {
     "duration": 0.151693,
     "end_time": "2022-11-17T03:32:28.397685",
     "exception": false,
     "start_time": "2022-11-17T03:32:28.245992",
     "status": "completed"
    },
    "tags": []
   },
   "outputs": [
    {
     "name": "stdout",
     "output_type": "stream",
     "text": [
      "Most boarded port:  S\n"
     ]
    },
    {
     "data": {
      "image/png": "[encoded data removed]",
      "text/plain": [
       "<Figure size 432x288 with 1 Axes>"
      ]
     },
     "metadata": {
      "needs_background": "light"
     },
     "output_type": "display_data"
    }
   ],
   "source": [
    "%matplotlib inline\n",
    "sns.countplot(x='Embarked',data=train_data,palette='Set1')\n",
    "print('Most boarded port: ', train_data['Embarked'].value_counts().idxmax())"
   ]
  },
  {
   "cell_type": "markdown",
   "id": "a79a9978",
   "metadata": {
    "papermill": {
     "duration": 0.009196,
     "end_time": "2022-11-17T03:32:28.416765",
     "exception": false,
     "start_time": "2022-11-17T03:32:28.407569",
     "status": "completed"
    },
    "tags": []
   },
   "source": [
    "# Final Description and Implementation\n",
    "* age fill the null with medain numbers\n",
    "* port fill the null with S\n",
    "* cabin drop it."
   ]
  },
  {
   "cell_type": "code",
   "execution_count": 9,
   "id": "656b3576",
   "metadata": {
    "execution": {
     "iopub.execute_input": "2022-11-17T03:32:28.438015Z",
     "iopub.status.busy": "2022-11-17T03:32:28.437254Z",
     "iopub.status.idle": "2022-11-17T03:32:28.463533Z",
     "shell.execute_reply": "2022-11-17T03:32:28.462353Z"
    },
    "papermill": {
     "duration": 0.039839,
     "end_time": "2022-11-17T03:32:28.466171",
     "exception": false,
     "start_time": "2022-11-17T03:32:28.426332",
     "status": "completed"
    },
    "tags": []
   },
   "outputs": [
    {
     "data": {
      "text/html": [
       "<div>\n",
       "<style scoped>\n",
       "    .dataframe tbody tr th:only-of-type {\n",
       "        vertical-align: middle;\n",
       "    }\n",
       "\n",
       "    .dataframe tbody tr th {\n",
       "        vertical-align: top;\n",
       "    }\n",
       "\n",
       "    .dataframe thead th {\n",
       "        text-align: right;\n",
       "    }\n",
       "</style>\n",
       "<table border=\"1\" class=\"dataframe\">\n",
       "  <thead>\n",
       "    <tr style=\"text-align: right;\">\n",
       "      <th></th>\n",
       "      <th>PassengerId</th>\n",
       "      <th>Pclass</th>\n",
       "      <th>Name</th>\n",
       "      <th>Sex</th>\n",
       "      <th>Age</th>\n",
       "      <th>SibSp</th>\n",
       "      <th>Parch</th>\n",
       "      <th>Ticket</th>\n",
       "      <th>Fare</th>\n",
       "      <th>Embarked</th>\n",
       "    </tr>\n",
       "  </thead>\n",
       "  <tbody>\n",
       "    <tr>\n",
       "      <th>0</th>\n",
       "      <td>892</td>\n",
       "      <td>3</td>\n",
       "      <td>Kelly, Mr. James</td>\n",
       "      <td>male</td>\n",
       "      <td>34.5</td>\n",
       "      <td>0</td>\n",
       "      <td>0</td>\n",
       "      <td>330911</td>\n",
       "      <td>7.8292</td>\n",
       "      <td>Q</td>\n",
       "    </tr>\n",
       "    <tr>\n",
       "      <th>1</th>\n",
       "      <td>893</td>\n",
       "      <td>3</td>\n",
       "      <td>Wilkes, Mrs. James (Ellen Needs)</td>\n",
       "      <td>female</td>\n",
       "      <td>47.0</td>\n",
       "      <td>1</td>\n",
       "      <td>0</td>\n",
       "      <td>363272</td>\n",
       "      <td>7.0000</td>\n",
       "      <td>S</td>\n",
       "    </tr>\n",
       "    <tr>\n",
       "      <th>2</th>\n",
       "      <td>894</td>\n",
       "      <td>2</td>\n",
       "      <td>Myles, Mr. Thomas Francis</td>\n",
       "      <td>male</td>\n",
       "      <td>62.0</td>\n",
       "      <td>0</td>\n",
       "      <td>0</td>\n",
       "      <td>240276</td>\n",
       "      <td>9.6875</td>\n",
       "      <td>Q</td>\n",
       "    </tr>\n",
       "    <tr>\n",
       "      <th>3</th>\n",
       "      <td>895</td>\n",
       "      <td>3</td>\n",
       "      <td>Wirz, Mr. Albert</td>\n",
       "      <td>male</td>\n",
       "      <td>27.0</td>\n",
       "      <td>0</td>\n",
       "      <td>0</td>\n",
       "      <td>315154</td>\n",
       "      <td>8.6625</td>\n",
       "      <td>S</td>\n",
       "    </tr>\n",
       "    <tr>\n",
       "      <th>4</th>\n",
       "      <td>896</td>\n",
       "      <td>3</td>\n",
       "      <td>Hirvonen, Mrs. Alexander (Helga E Lindqvist)</td>\n",
       "      <td>female</td>\n",
       "      <td>22.0</td>\n",
       "      <td>1</td>\n",
       "      <td>1</td>\n",
       "      <td>3101298</td>\n",
       "      <td>12.2875</td>\n",
       "      <td>S</td>\n",
       "    </tr>\n",
       "  </tbody>\n",
       "</table>\n",
       "</div>"
      ],
      "text/plain": [
       "   PassengerId  Pclass                                          Name     Sex  \\\n",
       "0          892       3                              Kelly, Mr. James    male   \n",
       "1          893       3              Wilkes, Mrs. James (Ellen Needs)  female   \n",
       "2          894       2                     Myles, Mr. Thomas Francis    male   \n",
       "3          895       3                              Wirz, Mr. Albert    male   \n",
       "4          896       3  Hirvonen, Mrs. Alexander (Helga E Lindqvist)  female   \n",
       "\n",
       "    Age  SibSp  Parch   Ticket     Fare Embarked  \n",
       "0  34.5      0      0   330911   7.8292        Q  \n",
       "1  47.0      1      0   363272   7.0000        S  \n",
       "2  62.0      0      0   240276   9.6875        Q  \n",
       "3  27.0      0      0   315154   8.6625        S  \n",
       "4  22.0      1      1  3101298  12.2875        S  "
      ]
     },
     "execution_count": 9,
     "metadata": {},
     "output_type": "execute_result"
    }
   ],
   "source": [
    "train_df=train_data.copy()\n",
    "test_df=test_data.copy()\n",
    "\n",
    "train_data['Age'].fillna(train_df['Age'].median(skipna=True),inplace=True)\n",
    "test_data['Age'].fillna(test_df['Age'].median(skipna=True),inplace=True)\n",
    "train_data['Embarked'].fillna(train_df['Embarked'].value_counts().idxmax(),inplace=True)\n",
    "test_data['Embarked'].fillna(test_df['Embarked'].value_counts().idxmax(),inplace=True)\n",
    "train_data.drop('Cabin', axis=1, inplace=True)\n",
    "test_data.drop('Cabin', axis=1, inplace=True)\n",
    "test_data['Fare'].fillna(test_data['Fare'].median(skipna=True),inplace=True)\n",
    "test_data.head()"
   ]
  },
  {
   "cell_type": "code",
   "execution_count": 10,
   "id": "6280aa30",
   "metadata": {
    "execution": {
     "iopub.execute_input": "2022-11-17T03:32:28.487895Z",
     "iopub.status.busy": "2022-11-17T03:32:28.487130Z",
     "iopub.status.idle": "2022-11-17T03:32:28.498021Z",
     "shell.execute_reply": "2022-11-17T03:32:28.496950Z"
    },
    "papermill": {
     "duration": 0.024389,
     "end_time": "2022-11-17T03:32:28.500274",
     "exception": false,
     "start_time": "2022-11-17T03:32:28.475885",
     "status": "completed"
    },
    "tags": []
   },
   "outputs": [
    {
     "data": {
      "text/plain": [
       "PassengerId    0\n",
       "Pclass         0\n",
       "Name           0\n",
       "Sex            0\n",
       "Age            0\n",
       "SibSp          0\n",
       "Parch          0\n",
       "Ticket         0\n",
       "Fare           0\n",
       "Embarked       0\n",
       "dtype: int64"
      ]
     },
     "execution_count": 10,
     "metadata": {},
     "output_type": "execute_result"
    }
   ],
   "source": [
    "train_data.isnull().sum()\n",
    "test_data.isnull().sum()"
   ]
  },
  {
   "cell_type": "markdown",
   "id": "1db5cc55",
   "metadata": {
    "papermill": {
     "duration": 0.009279,
     "end_time": "2022-11-17T03:32:28.519290",
     "exception": false,
     "start_time": "2022-11-17T03:32:28.510011",
     "status": "completed"
    },
    "tags": []
   },
   "source": [
    "# unnecessary variable analysis\n",
    "* sibsp:#of siblings/spouses \n",
    "* parch:# of parents/kids \n",
    "  * both variables are highly related\n",
    "  * trun then in one variable solotravel : 0/1"
   ]
  },
  {
   "cell_type": "code",
   "execution_count": 11,
   "id": "9b6a1bbc",
   "metadata": {
    "execution": {
     "iopub.execute_input": "2022-11-17T03:32:28.540710Z",
     "iopub.status.busy": "2022-11-17T03:32:28.539931Z",
     "iopub.status.idle": "2022-11-17T03:32:28.560418Z",
     "shell.execute_reply": "2022-11-17T03:32:28.559221Z"
    },
    "papermill": {
     "duration": 0.03384,
     "end_time": "2022-11-17T03:32:28.562740",
     "exception": false,
     "start_time": "2022-11-17T03:32:28.528900",
     "status": "completed"
    },
    "tags": []
   },
   "outputs": [
    {
     "data": {
      "text/html": [
       "<div>\n",
       "<style scoped>\n",
       "    .dataframe tbody tr th:only-of-type {\n",
       "        vertical-align: middle;\n",
       "    }\n",
       "\n",
       "    .dataframe tbody tr th {\n",
       "        vertical-align: top;\n",
       "    }\n",
       "\n",
       "    .dataframe thead th {\n",
       "        text-align: right;\n",
       "    }\n",
       "</style>\n",
       "<table border=\"1\" class=\"dataframe\">\n",
       "  <thead>\n",
       "    <tr style=\"text-align: right;\">\n",
       "      <th></th>\n",
       "      <th>PassengerId</th>\n",
       "      <th>Pclass</th>\n",
       "      <th>Name</th>\n",
       "      <th>Sex</th>\n",
       "      <th>Age</th>\n",
       "      <th>SibSp</th>\n",
       "      <th>Parch</th>\n",
       "      <th>Ticket</th>\n",
       "      <th>Fare</th>\n",
       "      <th>Embarked</th>\n",
       "      <th>SoloTravel</th>\n",
       "    </tr>\n",
       "  </thead>\n",
       "  <tbody>\n",
       "    <tr>\n",
       "      <th>0</th>\n",
       "      <td>892</td>\n",
       "      <td>3</td>\n",
       "      <td>Kelly, Mr. James</td>\n",
       "      <td>male</td>\n",
       "      <td>34.5</td>\n",
       "      <td>0</td>\n",
       "      <td>0</td>\n",
       "      <td>330911</td>\n",
       "      <td>7.8292</td>\n",
       "      <td>Q</td>\n",
       "      <td>1</td>\n",
       "    </tr>\n",
       "    <tr>\n",
       "      <th>1</th>\n",
       "      <td>893</td>\n",
       "      <td>3</td>\n",
       "      <td>Wilkes, Mrs. James (Ellen Needs)</td>\n",
       "      <td>female</td>\n",
       "      <td>47.0</td>\n",
       "      <td>1</td>\n",
       "      <td>0</td>\n",
       "      <td>363272</td>\n",
       "      <td>7.0000</td>\n",
       "      <td>S</td>\n",
       "      <td>0</td>\n",
       "    </tr>\n",
       "    <tr>\n",
       "      <th>2</th>\n",
       "      <td>894</td>\n",
       "      <td>2</td>\n",
       "      <td>Myles, Mr. Thomas Francis</td>\n",
       "      <td>male</td>\n",
       "      <td>62.0</td>\n",
       "      <td>0</td>\n",
       "      <td>0</td>\n",
       "      <td>240276</td>\n",
       "      <td>9.6875</td>\n",
       "      <td>Q</td>\n",
       "      <td>1</td>\n",
       "    </tr>\n",
       "    <tr>\n",
       "      <th>3</th>\n",
       "      <td>895</td>\n",
       "      <td>3</td>\n",
       "      <td>Wirz, Mr. Albert</td>\n",
       "      <td>male</td>\n",
       "      <td>27.0</td>\n",
       "      <td>0</td>\n",
       "      <td>0</td>\n",
       "      <td>315154</td>\n",
       "      <td>8.6625</td>\n",
       "      <td>S</td>\n",
       "      <td>1</td>\n",
       "    </tr>\n",
       "    <tr>\n",
       "      <th>4</th>\n",
       "      <td>896</td>\n",
       "      <td>3</td>\n",
       "      <td>Hirvonen, Mrs. Alexander (Helga E Lindqvist)</td>\n",
       "      <td>female</td>\n",
       "      <td>22.0</td>\n",
       "      <td>1</td>\n",
       "      <td>1</td>\n",
       "      <td>3101298</td>\n",
       "      <td>12.2875</td>\n",
       "      <td>S</td>\n",
       "      <td>0</td>\n",
       "    </tr>\n",
       "    <tr>\n",
       "      <th>5</th>\n",
       "      <td>897</td>\n",
       "      <td>3</td>\n",
       "      <td>Svensson, Mr. Johan Cervin</td>\n",
       "      <td>male</td>\n",
       "      <td>14.0</td>\n",
       "      <td>0</td>\n",
       "      <td>0</td>\n",
       "      <td>7538</td>\n",
       "      <td>9.2250</td>\n",
       "      <td>S</td>\n",
       "      <td>1</td>\n",
       "    </tr>\n",
       "    <tr>\n",
       "      <th>6</th>\n",
       "      <td>898</td>\n",
       "      <td>3</td>\n",
       "      <td>Connolly, Miss. Kate</td>\n",
       "      <td>female</td>\n",
       "      <td>30.0</td>\n",
       "      <td>0</td>\n",
       "      <td>0</td>\n",
       "      <td>330972</td>\n",
       "      <td>7.6292</td>\n",
       "      <td>Q</td>\n",
       "      <td>1</td>\n",
       "    </tr>\n",
       "    <tr>\n",
       "      <th>7</th>\n",
       "      <td>899</td>\n",
       "      <td>2</td>\n",
       "      <td>Caldwell, Mr. Albert Francis</td>\n",
       "      <td>male</td>\n",
       "      <td>26.0</td>\n",
       "      <td>1</td>\n",
       "      <td>1</td>\n",
       "      <td>248738</td>\n",
       "      <td>29.0000</td>\n",
       "      <td>S</td>\n",
       "      <td>0</td>\n",
       "    </tr>\n",
       "    <tr>\n",
       "      <th>8</th>\n",
       "      <td>900</td>\n",
       "      <td>3</td>\n",
       "      <td>Abrahim, Mrs. Joseph (Sophie Halaut Easu)</td>\n",
       "      <td>female</td>\n",
       "      <td>18.0</td>\n",
       "      <td>0</td>\n",
       "      <td>0</td>\n",
       "      <td>2657</td>\n",
       "      <td>7.2292</td>\n",
       "      <td>C</td>\n",
       "      <td>1</td>\n",
       "    </tr>\n",
       "    <tr>\n",
       "      <th>9</th>\n",
       "      <td>901</td>\n",
       "      <td>3</td>\n",
       "      <td>Davies, Mr. John Samuel</td>\n",
       "      <td>male</td>\n",
       "      <td>21.0</td>\n",
       "      <td>2</td>\n",
       "      <td>0</td>\n",
       "      <td>A/4 48871</td>\n",
       "      <td>24.1500</td>\n",
       "      <td>S</td>\n",
       "      <td>0</td>\n",
       "    </tr>\n",
       "  </tbody>\n",
       "</table>\n",
       "</div>"
      ],
      "text/plain": [
       "   PassengerId  Pclass                                          Name     Sex  \\\n",
       "0          892       3                              Kelly, Mr. James    male   \n",
       "1          893       3              Wilkes, Mrs. James (Ellen Needs)  female   \n",
       "2          894       2                     Myles, Mr. Thomas Francis    male   \n",
       "3          895       3                              Wirz, Mr. Albert    male   \n",
       "4          896       3  Hirvonen, Mrs. Alexander (Helga E Lindqvist)  female   \n",
       "5          897       3                    Svensson, Mr. Johan Cervin    male   \n",
       "6          898       3                          Connolly, Miss. Kate  female   \n",
       "7          899       2                  Caldwell, Mr. Albert Francis    male   \n",
       "8          900       3     Abrahim, Mrs. Joseph (Sophie Halaut Easu)  female   \n",
       "9          901       3                       Davies, Mr. John Samuel    male   \n",
       "\n",
       "    Age  SibSp  Parch     Ticket     Fare Embarked  SoloTravel  \n",
       "0  34.5      0      0     330911   7.8292        Q           1  \n",
       "1  47.0      1      0     363272   7.0000        S           0  \n",
       "2  62.0      0      0     240276   9.6875        Q           1  \n",
       "3  27.0      0      0     315154   8.6625        S           1  \n",
       "4  22.0      1      1    3101298  12.2875        S           0  \n",
       "5  14.0      0      0       7538   9.2250        S           1  \n",
       "6  30.0      0      0     330972   7.6292        Q           1  \n",
       "7  26.0      1      1     248738  29.0000        S           0  \n",
       "8  18.0      0      0       2657   7.2292        C           1  \n",
       "9  21.0      2      0  A/4 48871  24.1500        S           0  "
      ]
     },
     "execution_count": 11,
     "metadata": {},
     "output_type": "execute_result"
    }
   ],
   "source": [
    "train_data['SoloTravel'] = np.where((train_data['SibSp']+train_data['Parch'])>0,0,1)\n",
    "test_data['SoloTravel']=np.where((test_data['SibSp']+test_data['Parch'])>0,0,1)\n",
    "test_data.head(10)"
   ]
  },
  {
   "cell_type": "markdown",
   "id": "53452c1b",
   "metadata": {
    "papermill": {
     "duration": 0.009632,
     "end_time": "2022-11-17T03:32:28.582421",
     "exception": false,
     "start_time": "2022-11-17T03:32:28.572789",
     "status": "completed"
    },
    "tags": []
   },
   "source": [
    "# remove helpless info"
   ]
  },
  {
   "cell_type": "code",
   "execution_count": 12,
   "id": "63f8b18f",
   "metadata": {
    "execution": {
     "iopub.execute_input": "2022-11-17T03:32:28.604398Z",
     "iopub.status.busy": "2022-11-17T03:32:28.603622Z",
     "iopub.status.idle": "2022-11-17T03:32:28.623935Z",
     "shell.execute_reply": "2022-11-17T03:32:28.622890Z"
    },
    "papermill": {
     "duration": 0.033857,
     "end_time": "2022-11-17T03:32:28.626171",
     "exception": false,
     "start_time": "2022-11-17T03:32:28.592314",
     "status": "completed"
    },
    "tags": []
   },
   "outputs": [
    {
     "data": {
      "text/html": [
       "<div>\n",
       "<style scoped>\n",
       "    .dataframe tbody tr th:only-of-type {\n",
       "        vertical-align: middle;\n",
       "    }\n",
       "\n",
       "    .dataframe tbody tr th {\n",
       "        vertical-align: top;\n",
       "    }\n",
       "\n",
       "    .dataframe thead th {\n",
       "        text-align: right;\n",
       "    }\n",
       "</style>\n",
       "<table border=\"1\" class=\"dataframe\">\n",
       "  <thead>\n",
       "    <tr style=\"text-align: right;\">\n",
       "      <th></th>\n",
       "      <th>PassengerId</th>\n",
       "      <th>Pclass</th>\n",
       "      <th>Name</th>\n",
       "      <th>Sex</th>\n",
       "      <th>Age</th>\n",
       "      <th>Ticket</th>\n",
       "      <th>Fare</th>\n",
       "      <th>Embarked</th>\n",
       "      <th>SoloTravel</th>\n",
       "    </tr>\n",
       "  </thead>\n",
       "  <tbody>\n",
       "    <tr>\n",
       "      <th>0</th>\n",
       "      <td>892</td>\n",
       "      <td>3</td>\n",
       "      <td>Kelly, Mr. James</td>\n",
       "      <td>male</td>\n",
       "      <td>34.5</td>\n",
       "      <td>330911</td>\n",
       "      <td>7.8292</td>\n",
       "      <td>Q</td>\n",
       "      <td>1</td>\n",
       "    </tr>\n",
       "    <tr>\n",
       "      <th>1</th>\n",
       "      <td>893</td>\n",
       "      <td>3</td>\n",
       "      <td>Wilkes, Mrs. James (Ellen Needs)</td>\n",
       "      <td>female</td>\n",
       "      <td>47.0</td>\n",
       "      <td>363272</td>\n",
       "      <td>7.0000</td>\n",
       "      <td>S</td>\n",
       "      <td>0</td>\n",
       "    </tr>\n",
       "    <tr>\n",
       "      <th>2</th>\n",
       "      <td>894</td>\n",
       "      <td>2</td>\n",
       "      <td>Myles, Mr. Thomas Francis</td>\n",
       "      <td>male</td>\n",
       "      <td>62.0</td>\n",
       "      <td>240276</td>\n",
       "      <td>9.6875</td>\n",
       "      <td>Q</td>\n",
       "      <td>1</td>\n",
       "    </tr>\n",
       "    <tr>\n",
       "      <th>3</th>\n",
       "      <td>895</td>\n",
       "      <td>3</td>\n",
       "      <td>Wirz, Mr. Albert</td>\n",
       "      <td>male</td>\n",
       "      <td>27.0</td>\n",
       "      <td>315154</td>\n",
       "      <td>8.6625</td>\n",
       "      <td>S</td>\n",
       "      <td>1</td>\n",
       "    </tr>\n",
       "    <tr>\n",
       "      <th>4</th>\n",
       "      <td>896</td>\n",
       "      <td>3</td>\n",
       "      <td>Hirvonen, Mrs. Alexander (Helga E Lindqvist)</td>\n",
       "      <td>female</td>\n",
       "      <td>22.0</td>\n",
       "      <td>3101298</td>\n",
       "      <td>12.2875</td>\n",
       "      <td>S</td>\n",
       "      <td>0</td>\n",
       "    </tr>\n",
       "  </tbody>\n",
       "</table>\n",
       "</div>"
      ],
      "text/plain": [
       "   PassengerId  Pclass                                          Name     Sex  \\\n",
       "0          892       3                              Kelly, Mr. James    male   \n",
       "1          893       3              Wilkes, Mrs. James (Ellen Needs)  female   \n",
       "2          894       2                     Myles, Mr. Thomas Francis    male   \n",
       "3          895       3                              Wirz, Mr. Albert    male   \n",
       "4          896       3  Hirvonen, Mrs. Alexander (Helga E Lindqvist)  female   \n",
       "\n",
       "    Age   Ticket     Fare Embarked  SoloTravel  \n",
       "0  34.5   330911   7.8292        Q           1  \n",
       "1  47.0   363272   7.0000        S           0  \n",
       "2  62.0   240276   9.6875        Q           1  \n",
       "3  27.0   315154   8.6625        S           1  \n",
       "4  22.0  3101298  12.2875        S           0  "
      ]
     },
     "execution_count": 12,
     "metadata": {},
     "output_type": "execute_result"
    }
   ],
   "source": [
    "train_data.drop('SibSp',axis=1,inplace=True)\n",
    "train_data.drop('Parch',axis=1,inplace=True)\n",
    "\n",
    "test_data.drop('SibSp',axis=1,inplace=True)\n",
    "test_data.drop('Parch',axis=1,inplace=True)\n",
    "\n",
    "test_data.head()"
   ]
  },
  {
   "cell_type": "markdown",
   "id": "e2238c3c",
   "metadata": {
    "papermill": {
     "duration": 0.012461,
     "end_time": "2022-11-17T03:32:28.648868",
     "exception": false,
     "start_time": "2022-11-17T03:32:28.636407",
     "status": "completed"
    },
    "tags": []
   },
   "source": [
    "# categorical variables\n",
    " * deal with the catogrical info: 'Pclass','Embarked','Sex'"
   ]
  },
  {
   "cell_type": "code",
   "execution_count": 13,
   "id": "38ca372f",
   "metadata": {
    "execution": {
     "iopub.execute_input": "2022-11-17T03:32:28.675167Z",
     "iopub.status.busy": "2022-11-17T03:32:28.674179Z",
     "iopub.status.idle": "2022-11-17T03:32:28.718159Z",
     "shell.execute_reply": "2022-11-17T03:32:28.717262Z"
    },
    "papermill": {
     "duration": 0.060585,
     "end_time": "2022-11-17T03:32:28.720607",
     "exception": false,
     "start_time": "2022-11-17T03:32:28.660022",
     "status": "completed"
    },
    "tags": []
   },
   "outputs": [
    {
     "data": {
      "text/html": [
       "<div>\n",
       "<style scoped>\n",
       "    .dataframe tbody tr th:only-of-type {\n",
       "        vertical-align: middle;\n",
       "    }\n",
       "\n",
       "    .dataframe tbody tr th {\n",
       "        vertical-align: top;\n",
       "    }\n",
       "\n",
       "    .dataframe thead th {\n",
       "        text-align: right;\n",
       "    }\n",
       "</style>\n",
       "<table border=\"1\" class=\"dataframe\">\n",
       "  <thead>\n",
       "    <tr style=\"text-align: right;\">\n",
       "      <th></th>\n",
       "      <th>Age</th>\n",
       "      <th>Fare</th>\n",
       "      <th>SoloTravel</th>\n",
       "      <th>Pclass_2</th>\n",
       "      <th>Pclass_3</th>\n",
       "      <th>Embarked_Q</th>\n",
       "      <th>Embarked_S</th>\n",
       "      <th>Sex_male</th>\n",
       "    </tr>\n",
       "  </thead>\n",
       "  <tbody>\n",
       "    <tr>\n",
       "      <th>0</th>\n",
       "      <td>34.5</td>\n",
       "      <td>7.8292</td>\n",
       "      <td>1</td>\n",
       "      <td>0</td>\n",
       "      <td>1</td>\n",
       "      <td>1</td>\n",
       "      <td>0</td>\n",
       "      <td>1</td>\n",
       "    </tr>\n",
       "    <tr>\n",
       "      <th>1</th>\n",
       "      <td>47.0</td>\n",
       "      <td>7.0000</td>\n",
       "      <td>0</td>\n",
       "      <td>0</td>\n",
       "      <td>1</td>\n",
       "      <td>0</td>\n",
       "      <td>1</td>\n",
       "      <td>0</td>\n",
       "    </tr>\n",
       "    <tr>\n",
       "      <th>2</th>\n",
       "      <td>62.0</td>\n",
       "      <td>9.6875</td>\n",
       "      <td>1</td>\n",
       "      <td>1</td>\n",
       "      <td>0</td>\n",
       "      <td>1</td>\n",
       "      <td>0</td>\n",
       "      <td>1</td>\n",
       "    </tr>\n",
       "    <tr>\n",
       "      <th>3</th>\n",
       "      <td>27.0</td>\n",
       "      <td>8.6625</td>\n",
       "      <td>1</td>\n",
       "      <td>0</td>\n",
       "      <td>1</td>\n",
       "      <td>0</td>\n",
       "      <td>1</td>\n",
       "      <td>1</td>\n",
       "    </tr>\n",
       "    <tr>\n",
       "      <th>4</th>\n",
       "      <td>22.0</td>\n",
       "      <td>12.2875</td>\n",
       "      <td>0</td>\n",
       "      <td>0</td>\n",
       "      <td>1</td>\n",
       "      <td>0</td>\n",
       "      <td>1</td>\n",
       "      <td>0</td>\n",
       "    </tr>\n",
       "    <tr>\n",
       "      <th>5</th>\n",
       "      <td>14.0</td>\n",
       "      <td>9.2250</td>\n",
       "      <td>1</td>\n",
       "      <td>0</td>\n",
       "      <td>1</td>\n",
       "      <td>0</td>\n",
       "      <td>1</td>\n",
       "      <td>1</td>\n",
       "    </tr>\n",
       "    <tr>\n",
       "      <th>6</th>\n",
       "      <td>30.0</td>\n",
       "      <td>7.6292</td>\n",
       "      <td>1</td>\n",
       "      <td>0</td>\n",
       "      <td>1</td>\n",
       "      <td>1</td>\n",
       "      <td>0</td>\n",
       "      <td>0</td>\n",
       "    </tr>\n",
       "    <tr>\n",
       "      <th>7</th>\n",
       "      <td>26.0</td>\n",
       "      <td>29.0000</td>\n",
       "      <td>0</td>\n",
       "      <td>1</td>\n",
       "      <td>0</td>\n",
       "      <td>0</td>\n",
       "      <td>1</td>\n",
       "      <td>1</td>\n",
       "    </tr>\n",
       "    <tr>\n",
       "      <th>8</th>\n",
       "      <td>18.0</td>\n",
       "      <td>7.2292</td>\n",
       "      <td>1</td>\n",
       "      <td>0</td>\n",
       "      <td>1</td>\n",
       "      <td>0</td>\n",
       "      <td>0</td>\n",
       "      <td>0</td>\n",
       "    </tr>\n",
       "    <tr>\n",
       "      <th>9</th>\n",
       "      <td>21.0</td>\n",
       "      <td>24.1500</td>\n",
       "      <td>0</td>\n",
       "      <td>0</td>\n",
       "      <td>1</td>\n",
       "      <td>0</td>\n",
       "      <td>1</td>\n",
       "      <td>1</td>\n",
       "    </tr>\n",
       "  </tbody>\n",
       "</table>\n",
       "</div>"
      ],
      "text/plain": [
       "    Age     Fare  SoloTravel  Pclass_2  Pclass_3  Embarked_Q  Embarked_S  \\\n",
       "0  34.5   7.8292           1         0         1           1           0   \n",
       "1  47.0   7.0000           0         0         1           0           1   \n",
       "2  62.0   9.6875           1         1         0           1           0   \n",
       "3  27.0   8.6625           1         0         1           0           1   \n",
       "4  22.0  12.2875           0         0         1           0           1   \n",
       "5  14.0   9.2250           1         0         1           0           1   \n",
       "6  30.0   7.6292           1         0         1           1           0   \n",
       "7  26.0  29.0000           0         1         0           0           1   \n",
       "8  18.0   7.2292           1         0         1           0           0   \n",
       "9  21.0  24.1500           0         0         1           0           1   \n",
       "\n",
       "   Sex_male  \n",
       "0         1  \n",
       "1         0  \n",
       "2         1  \n",
       "3         1  \n",
       "4         0  \n",
       "5         1  \n",
       "6         0  \n",
       "7         1  \n",
       "8         0  \n",
       "9         1  "
      ]
     },
     "execution_count": 13,
     "metadata": {},
     "output_type": "execute_result"
    }
   ],
   "source": [
    "train_data = pd.get_dummies(train_data,columns=[\"Pclass\",'Embarked','Sex'],drop_first=True)\n",
    "test_data = pd.get_dummies(test_data,columns=[\"Pclass\",'Embarked','Sex'],drop_first=True)\n",
    "train_data.drop('PassengerId',axis=1,inplace=True)\n",
    "train_data.drop('Name',axis=1,inplace=True)\n",
    "train_data.drop('Ticket',axis=1,inplace=True)\n",
    "\n",
    "test_data.drop('Name',axis=1,inplace=True)\n",
    "test_data.drop('Ticket',axis=1,inplace=True)\n",
    "test_data.drop('PassengerId',axis=1,inplace=True)\n",
    "\n",
    "test_data.head(10)"
   ]
  },
  {
   "cell_type": "markdown",
   "id": "0e39fd97",
   "metadata": {
    "papermill": {
     "duration": 0.010249,
     "end_time": "2022-11-17T03:32:28.746725",
     "exception": false,
     "start_time": "2022-11-17T03:32:28.736476",
     "status": "completed"
    },
    "tags": []
   },
   "source": [
    "# exploratory data analysis"
   ]
  },
  {
   "cell_type": "code",
   "execution_count": 14,
   "id": "b53f6809",
   "metadata": {
    "execution": {
     "iopub.execute_input": "2022-11-17T03:32:28.769248Z",
     "iopub.status.busy": "2022-11-17T03:32:28.768800Z",
     "iopub.status.idle": "2022-11-17T03:32:28.806202Z",
     "shell.execute_reply": "2022-11-17T03:32:28.805127Z"
    },
    "papermill": {
     "duration": 0.051296,
     "end_time": "2022-11-17T03:32:28.808451",
     "exception": false,
     "start_time": "2022-11-17T03:32:28.757155",
     "status": "completed"
    },
    "tags": []
   },
   "outputs": [
    {
     "data": {
      "text/html": [
       "<div>\n",
       "<style scoped>\n",
       "    .dataframe tbody tr th:only-of-type {\n",
       "        vertical-align: middle;\n",
       "    }\n",
       "\n",
       "    .dataframe tbody tr th {\n",
       "        vertical-align: top;\n",
       "    }\n",
       "\n",
       "    .dataframe thead th {\n",
       "        text-align: right;\n",
       "    }\n",
       "</style>\n",
       "<table border=\"1\" class=\"dataframe\">\n",
       "  <thead>\n",
       "    <tr style=\"text-align: right;\">\n",
       "      <th></th>\n",
       "      <th>Survived</th>\n",
       "      <th>Age</th>\n",
       "      <th>Fare</th>\n",
       "      <th>SoloTravel</th>\n",
       "      <th>Pclass_2</th>\n",
       "      <th>Pclass_3</th>\n",
       "      <th>Embarked_Q</th>\n",
       "      <th>Embarked_S</th>\n",
       "      <th>Sex_male</th>\n",
       "    </tr>\n",
       "  </thead>\n",
       "  <tbody>\n",
       "    <tr>\n",
       "      <th>count</th>\n",
       "      <td>891.000000</td>\n",
       "      <td>891.000000</td>\n",
       "      <td>891.000000</td>\n",
       "      <td>891.000000</td>\n",
       "      <td>891.000000</td>\n",
       "      <td>891.000000</td>\n",
       "      <td>891.000000</td>\n",
       "      <td>891.000000</td>\n",
       "      <td>891.000000</td>\n",
       "    </tr>\n",
       "    <tr>\n",
       "      <th>mean</th>\n",
       "      <td>0.383838</td>\n",
       "      <td>29.361582</td>\n",
       "      <td>32.204208</td>\n",
       "      <td>0.602694</td>\n",
       "      <td>0.206510</td>\n",
       "      <td>0.551066</td>\n",
       "      <td>0.086420</td>\n",
       "      <td>0.725028</td>\n",
       "      <td>0.647587</td>\n",
       "    </tr>\n",
       "    <tr>\n",
       "      <th>std</th>\n",
       "      <td>0.486592</td>\n",
       "      <td>13.019697</td>\n",
       "      <td>49.693429</td>\n",
       "      <td>0.489615</td>\n",
       "      <td>0.405028</td>\n",
       "      <td>0.497665</td>\n",
       "      <td>0.281141</td>\n",
       "      <td>0.446751</td>\n",
       "      <td>0.477990</td>\n",
       "    </tr>\n",
       "    <tr>\n",
       "      <th>min</th>\n",
       "      <td>0.000000</td>\n",
       "      <td>0.420000</td>\n",
       "      <td>0.000000</td>\n",
       "      <td>0.000000</td>\n",
       "      <td>0.000000</td>\n",
       "      <td>0.000000</td>\n",
       "      <td>0.000000</td>\n",
       "      <td>0.000000</td>\n",
       "      <td>0.000000</td>\n",
       "    </tr>\n",
       "    <tr>\n",
       "      <th>25%</th>\n",
       "      <td>0.000000</td>\n",
       "      <td>22.000000</td>\n",
       "      <td>7.910400</td>\n",
       "      <td>0.000000</td>\n",
       "      <td>0.000000</td>\n",
       "      <td>0.000000</td>\n",
       "      <td>0.000000</td>\n",
       "      <td>0.000000</td>\n",
       "      <td>0.000000</td>\n",
       "    </tr>\n",
       "    <tr>\n",
       "      <th>50%</th>\n",
       "      <td>0.000000</td>\n",
       "      <td>28.000000</td>\n",
       "      <td>14.454200</td>\n",
       "      <td>1.000000</td>\n",
       "      <td>0.000000</td>\n",
       "      <td>1.000000</td>\n",
       "      <td>0.000000</td>\n",
       "      <td>1.000000</td>\n",
       "      <td>1.000000</td>\n",
       "    </tr>\n",
       "    <tr>\n",
       "      <th>75%</th>\n",
       "      <td>1.000000</td>\n",
       "      <td>35.000000</td>\n",
       "      <td>31.000000</td>\n",
       "      <td>1.000000</td>\n",
       "      <td>0.000000</td>\n",
       "      <td>1.000000</td>\n",
       "      <td>0.000000</td>\n",
       "      <td>1.000000</td>\n",
       "      <td>1.000000</td>\n",
       "    </tr>\n",
       "    <tr>\n",
       "      <th>max</th>\n",
       "      <td>1.000000</td>\n",
       "      <td>80.000000</td>\n",
       "      <td>512.329200</td>\n",
       "      <td>1.000000</td>\n",
       "      <td>1.000000</td>\n",
       "      <td>1.000000</td>\n",
       "      <td>1.000000</td>\n",
       "      <td>1.000000</td>\n",
       "      <td>1.000000</td>\n",
       "    </tr>\n",
       "  </tbody>\n",
       "</table>\n",
       "</div>"
      ],
      "text/plain": [
       "         Survived         Age        Fare  SoloTravel    Pclass_2    Pclass_3  \\\n",
       "count  891.000000  891.000000  891.000000  891.000000  891.000000  891.000000   \n",
       "mean     0.383838   29.361582   32.204208    0.602694    0.206510    0.551066   \n",
       "std      0.486592   13.019697   49.693429    0.489615    0.405028    0.497665   \n",
       "min      0.000000    0.420000    0.000000    0.000000    0.000000    0.000000   \n",
       "25%      0.000000   22.000000    7.910400    0.000000    0.000000    0.000000   \n",
       "50%      0.000000   28.000000   14.454200    1.000000    0.000000    1.000000   \n",
       "75%      1.000000   35.000000   31.000000    1.000000    0.000000    1.000000   \n",
       "max      1.000000   80.000000  512.329200    1.000000    1.000000    1.000000   \n",
       "\n",
       "       Embarked_Q  Embarked_S    Sex_male  \n",
       "count  891.000000  891.000000  891.000000  \n",
       "mean     0.086420    0.725028    0.647587  \n",
       "std      0.281141    0.446751    0.477990  \n",
       "min      0.000000    0.000000    0.000000  \n",
       "25%      0.000000    0.000000    0.000000  \n",
       "50%      0.000000    1.000000    1.000000  \n",
       "75%      0.000000    1.000000    1.000000  \n",
       "max      1.000000    1.000000    1.000000  "
      ]
     },
     "execution_count": 14,
     "metadata": {},
     "output_type": "execute_result"
    }
   ],
   "source": [
    "train_data.shape\n",
    "test_data.shape\n",
    "train_data.describe()"
   ]
  },
  {
   "cell_type": "markdown",
   "id": "02ee7512",
   "metadata": {
    "papermill": {
     "duration": 0.01034,
     "end_time": "2022-11-17T03:32:28.829554",
     "exception": false,
     "start_time": "2022-11-17T03:32:28.819214",
     "status": "completed"
    },
    "tags": []
   },
   "source": []
  },
  {
   "cell_type": "markdown",
   "id": "b6939ed1",
   "metadata": {
    "papermill": {
     "duration": 0.010253,
     "end_time": "2022-11-17T03:32:28.850511",
     "exception": false,
     "start_time": "2022-11-17T03:32:28.840258",
     "status": "completed"
    },
    "tags": []
   },
   "source": [
    "## eda for age variable "
   ]
  },
  {
   "cell_type": "code",
   "execution_count": 15,
   "id": "a63a6df4",
   "metadata": {
    "execution": {
     "iopub.execute_input": "2022-11-17T03:32:28.874227Z",
     "iopub.status.busy": "2022-11-17T03:32:28.873061Z",
     "iopub.status.idle": "2022-11-17T03:32:29.129582Z",
     "shell.execute_reply": "2022-11-17T03:32:29.128401Z"
    },
    "papermill": {
     "duration": 0.271262,
     "end_time": "2022-11-17T03:32:29.132397",
     "exception": false,
     "start_time": "2022-11-17T03:32:28.861135",
     "status": "completed"
    },
    "tags": []
   },
   "outputs": [
    {
     "data": {
      "text/plain": [
       "(-10.0, 85.0)"
      ]
     },
     "execution_count": 15,
     "metadata": {},
     "output_type": "execute_result"
    },
    {
     "data": {
      "image/png": "[encoded data removed]",
      "text/plain": [
       "<Figure size 1080x576 with 1 Axes>"
      ]
     },
     "metadata": {
      "needs_background": "light"
     },
     "output_type": "display_data"
    }
   ],
   "source": [
    "%matplotlib inline\n",
    "plt.figure(figsize=(15,8))\n",
    "\n",
    "ax = sns.kdeplot(train_data['Age'][train_data.Survived ==1],color='green',shade=True)\n",
    "sns.kdeplot(train_data[\"Age\"][train_data.Survived==0],color='red',shade=True)\n",
    "\n",
    "plt.legend(['Survived','Died'])\n",
    "plt.title('survival and death density graph for age')\n",
    "ax.set(xlabel='age')\n",
    "plt.xlim(-10,85)\n"
   ]
  },
  {
   "cell_type": "markdown",
   "id": "d905d748",
   "metadata": {
    "papermill": {
     "duration": 0.011829,
     "end_time": "2022-11-17T03:32:29.156047",
     "exception": false,
     "start_time": "2022-11-17T03:32:29.144218",
     "status": "completed"
    },
    "tags": []
   },
   "source": [
    "## eda for fare variable"
   ]
  },
  {
   "cell_type": "code",
   "execution_count": 16,
   "id": "32115881",
   "metadata": {
    "execution": {
     "iopub.execute_input": "2022-11-17T03:32:29.181186Z",
     "iopub.status.busy": "2022-11-17T03:32:29.180713Z",
     "iopub.status.idle": "2022-11-17T03:32:29.419755Z",
     "shell.execute_reply": "2022-11-17T03:32:29.418644Z"
    },
    "papermill": {
     "duration": 0.25475,
     "end_time": "2022-11-17T03:32:29.422423",
     "exception": false,
     "start_time": "2022-11-17T03:32:29.167673",
     "status": "completed"
    },
    "tags": []
   },
   "outputs": [
    {
     "data": {
      "image/png": "[encoded data removed]",
      "text/plain": [
       "<Figure size 1080x576 with 1 Axes>"
      ]
     },
     "metadata": {
      "needs_background": "light"
     },
     "output_type": "display_data"
    }
   ],
   "source": [
    "%matplotlib inline\n",
    "plt.figure(figsize=(15,8))\n",
    "ax = sns.kdeplot(train_data['Fare'][train_data.Survived==1],color='green',shade=True)\n",
    "\n",
    "sns.kdeplot(train_data['Fare'][train_data.Survived==0],color='red',shade=True)\n",
    "\n",
    "plt.legend(['Survived','Died'])\n",
    "plt.title('density plot of fare')\n",
    "ax.set(xlabel='Fare')\n",
    "plt.xlim(-20,200)\n",
    "plt.show()"
   ]
  },
  {
   "cell_type": "markdown",
   "id": "009b8f0d",
   "metadata": {
    "papermill": {
     "duration": 0.011845,
     "end_time": "2022-11-17T03:32:29.446696",
     "exception": false,
     "start_time": "2022-11-17T03:32:29.434851",
     "status": "completed"
    },
    "tags": []
   },
   "source": [
    "# eda for passenger variable and famoly/solo travel"
   ]
  },
  {
   "cell_type": "code",
   "execution_count": 17,
   "id": "6a94f911",
   "metadata": {
    "execution": {
     "iopub.execute_input": "2022-11-17T03:32:29.473959Z",
     "iopub.status.busy": "2022-11-17T03:32:29.473567Z",
     "iopub.status.idle": "2022-11-17T03:32:29.760172Z",
     "shell.execute_reply": "2022-11-17T03:32:29.758977Z"
    },
    "papermill": {
     "duration": 0.303012,
     "end_time": "2022-11-17T03:32:29.762603",
     "exception": false,
     "start_time": "2022-11-17T03:32:29.459591",
     "status": "completed"
    },
    "tags": []
   },
   "outputs": [
    {
     "data": {
      "text/plain": [
       "<AxesSubplot:xlabel='Pclass', ylabel='Survived'>"
      ]
     },
     "execution_count": 17,
     "metadata": {},
     "output_type": "execute_result"
    },
    {
     "data": {
      "image/png": "[encoded data removed]",
      "text/plain": [
       "<Figure size 432x288 with 1 Axes>"
      ]
     },
     "metadata": {
      "needs_background": "light"
     },
     "output_type": "display_data"
    }
   ],
   "source": [
    "sns.barplot('Pclass','Survived',data=train_df,color='green')\n"
   ]
  },
  {
   "cell_type": "code",
   "execution_count": 18,
   "id": "323968d8",
   "metadata": {
    "execution": {
     "iopub.execute_input": "2022-11-17T03:32:29.789929Z",
     "iopub.status.busy": "2022-11-17T03:32:29.789230Z",
     "iopub.status.idle": "2022-11-17T03:32:30.042540Z",
     "shell.execute_reply": "2022-11-17T03:32:30.041654Z"
    },
    "papermill": {
     "duration": 0.269596,
     "end_time": "2022-11-17T03:32:30.044833",
     "exception": false,
     "start_time": "2022-11-17T03:32:29.775237",
     "status": "completed"
    },
    "tags": []
   },
   "outputs": [
    {
     "data": {
      "text/plain": [
       "<AxesSubplot:xlabel='Sex', ylabel='Survived'>"
      ]
     },
     "execution_count": 18,
     "metadata": {},
     "output_type": "execute_result"
    },
    {
     "data": {
      "image/png": "[encoded data removed]",
      "text/plain": [
       "<Figure size 432x288 with 1 Axes>"
      ]
     },
     "metadata": {
      "needs_background": "light"
     },
     "output_type": "display_data"
    }
   ],
   "source": [
    "sns.barplot('Sex','Survived',data=train_df,color='blue')"
   ]
  },
  {
   "cell_type": "code",
   "execution_count": 19,
   "id": "24a39cdf",
   "metadata": {
    "execution": {
     "iopub.execute_input": "2022-11-17T03:32:30.072933Z",
     "iopub.status.busy": "2022-11-17T03:32:30.072311Z",
     "iopub.status.idle": "2022-11-17T03:32:30.106248Z",
     "shell.execute_reply": "2022-11-17T03:32:30.105162Z"
    },
    "papermill": {
     "duration": 0.050916,
     "end_time": "2022-11-17T03:32:30.108805",
     "exception": false,
     "start_time": "2022-11-17T03:32:30.057889",
     "status": "completed"
    },
    "tags": []
   },
   "outputs": [
    {
     "data": {
      "text/html": [
       "<div>\n",
       "<style scoped>\n",
       "    .dataframe tbody tr th:only-of-type {\n",
       "        vertical-align: middle;\n",
       "    }\n",
       "\n",
       "    .dataframe tbody tr th {\n",
       "        vertical-align: top;\n",
       "    }\n",
       "\n",
       "    .dataframe thead th {\n",
       "        text-align: right;\n",
       "    }\n",
       "</style>\n",
       "<table border=\"1\" class=\"dataframe\">\n",
       "  <thead>\n",
       "    <tr style=\"text-align: right;\">\n",
       "      <th></th>\n",
       "      <th>Age</th>\n",
       "      <th>Fare</th>\n",
       "      <th>SoloTravel</th>\n",
       "      <th>Pclass_2</th>\n",
       "      <th>Pclass_3</th>\n",
       "      <th>Embarked_Q</th>\n",
       "      <th>Embarked_S</th>\n",
       "      <th>Sex_male</th>\n",
       "    </tr>\n",
       "  </thead>\n",
       "  <tbody>\n",
       "    <tr>\n",
       "      <th>count</th>\n",
       "      <td>891.000000</td>\n",
       "      <td>891.000000</td>\n",
       "      <td>891.000000</td>\n",
       "      <td>891.000000</td>\n",
       "      <td>891.000000</td>\n",
       "      <td>891.000000</td>\n",
       "      <td>891.000000</td>\n",
       "      <td>891.000000</td>\n",
       "    </tr>\n",
       "    <tr>\n",
       "      <th>mean</th>\n",
       "      <td>29.361582</td>\n",
       "      <td>32.204208</td>\n",
       "      <td>0.602694</td>\n",
       "      <td>0.206510</td>\n",
       "      <td>0.551066</td>\n",
       "      <td>0.086420</td>\n",
       "      <td>0.725028</td>\n",
       "      <td>0.647587</td>\n",
       "    </tr>\n",
       "    <tr>\n",
       "      <th>std</th>\n",
       "      <td>13.019697</td>\n",
       "      <td>49.693429</td>\n",
       "      <td>0.489615</td>\n",
       "      <td>0.405028</td>\n",
       "      <td>0.497665</td>\n",
       "      <td>0.281141</td>\n",
       "      <td>0.446751</td>\n",
       "      <td>0.477990</td>\n",
       "    </tr>\n",
       "    <tr>\n",
       "      <th>min</th>\n",
       "      <td>0.420000</td>\n",
       "      <td>0.000000</td>\n",
       "      <td>0.000000</td>\n",
       "      <td>0.000000</td>\n",
       "      <td>0.000000</td>\n",
       "      <td>0.000000</td>\n",
       "      <td>0.000000</td>\n",
       "      <td>0.000000</td>\n",
       "    </tr>\n",
       "    <tr>\n",
       "      <th>25%</th>\n",
       "      <td>22.000000</td>\n",
       "      <td>7.910400</td>\n",
       "      <td>0.000000</td>\n",
       "      <td>0.000000</td>\n",
       "      <td>0.000000</td>\n",
       "      <td>0.000000</td>\n",
       "      <td>0.000000</td>\n",
       "      <td>0.000000</td>\n",
       "    </tr>\n",
       "    <tr>\n",
       "      <th>50%</th>\n",
       "      <td>28.000000</td>\n",
       "      <td>14.454200</td>\n",
       "      <td>1.000000</td>\n",
       "      <td>0.000000</td>\n",
       "      <td>1.000000</td>\n",
       "      <td>0.000000</td>\n",
       "      <td>1.000000</td>\n",
       "      <td>1.000000</td>\n",
       "    </tr>\n",
       "    <tr>\n",
       "      <th>75%</th>\n",
       "      <td>35.000000</td>\n",
       "      <td>31.000000</td>\n",
       "      <td>1.000000</td>\n",
       "      <td>0.000000</td>\n",
       "      <td>1.000000</td>\n",
       "      <td>0.000000</td>\n",
       "      <td>1.000000</td>\n",
       "      <td>1.000000</td>\n",
       "    </tr>\n",
       "    <tr>\n",
       "      <th>max</th>\n",
       "      <td>80.000000</td>\n",
       "      <td>512.329200</td>\n",
       "      <td>1.000000</td>\n",
       "      <td>1.000000</td>\n",
       "      <td>1.000000</td>\n",
       "      <td>1.000000</td>\n",
       "      <td>1.000000</td>\n",
       "      <td>1.000000</td>\n",
       "    </tr>\n",
       "  </tbody>\n",
       "</table>\n",
       "</div>"
      ],
      "text/plain": [
       "              Age        Fare  SoloTravel    Pclass_2    Pclass_3  Embarked_Q  \\\n",
       "count  891.000000  891.000000  891.000000  891.000000  891.000000  891.000000   \n",
       "mean    29.361582   32.204208    0.602694    0.206510    0.551066    0.086420   \n",
       "std     13.019697   49.693429    0.489615    0.405028    0.497665    0.281141   \n",
       "min      0.420000    0.000000    0.000000    0.000000    0.000000    0.000000   \n",
       "25%     22.000000    7.910400    0.000000    0.000000    0.000000    0.000000   \n",
       "50%     28.000000   14.454200    1.000000    0.000000    1.000000    0.000000   \n",
       "75%     35.000000   31.000000    1.000000    0.000000    1.000000    0.000000   \n",
       "max     80.000000  512.329200    1.000000    1.000000    1.000000    1.000000   \n",
       "\n",
       "       Embarked_S    Sex_male  \n",
       "count  891.000000  891.000000  \n",
       "mean     0.725028    0.647587  \n",
       "std      0.446751    0.477990  \n",
       "min      0.000000    0.000000  \n",
       "25%      0.000000    0.000000  \n",
       "50%      1.000000    1.000000  \n",
       "75%      1.000000    1.000000  \n",
       "max      1.000000    1.000000  "
      ]
     },
     "execution_count": 19,
     "metadata": {},
     "output_type": "execute_result"
    }
   ],
   "source": [
    "train_data.drop('Survived',axis=1,inplace=True)\n",
    "train_data.describe()"
   ]
  },
  {
   "cell_type": "markdown",
   "id": "8f151934",
   "metadata": {
    "papermill": {
     "duration": 0.013281,
     "end_time": "2022-11-17T03:32:30.136135",
     "exception": false,
     "start_time": "2022-11-17T03:32:30.122854",
     "status": "completed"
    },
    "tags": []
   },
   "source": [
    "# feature scailing"
   ]
  },
  {
   "cell_type": "code",
   "execution_count": 20,
   "id": "a13f4015",
   "metadata": {
    "execution": {
     "iopub.execute_input": "2022-11-17T03:32:30.164978Z",
     "iopub.status.busy": "2022-11-17T03:32:30.164567Z",
     "iopub.status.idle": "2022-11-17T03:32:30.171485Z",
     "shell.execute_reply": "2022-11-17T03:32:30.170465Z"
    },
    "papermill": {
     "duration": 0.023828,
     "end_time": "2022-11-17T03:32:30.173686",
     "exception": false,
     "start_time": "2022-11-17T03:32:30.149858",
     "status": "completed"
    },
    "tags": []
   },
   "outputs": [
    {
     "data": {
      "text/plain": [
       "Index(['Age', 'Fare', 'SoloTravel', 'Pclass_2', 'Pclass_3', 'Embarked_Q',\n",
       "       'Embarked_S', 'Sex_male'],\n",
       "      dtype='object')"
      ]
     },
     "execution_count": 20,
     "metadata": {},
     "output_type": "execute_result"
    }
   ],
   "source": [
    "cols = train_data.columns\n",
    "\n",
    "cols"
   ]
  },
  {
   "cell_type": "code",
   "execution_count": 21,
   "id": "5f0510c2",
   "metadata": {
    "execution": {
     "iopub.execute_input": "2022-11-17T03:32:30.202344Z",
     "iopub.status.busy": "2022-11-17T03:32:30.201704Z",
     "iopub.status.idle": "2022-11-17T03:32:30.260141Z",
     "shell.execute_reply": "2022-11-17T03:32:30.258900Z"
    },
    "papermill": {
     "duration": 0.075413,
     "end_time": "2022-11-17T03:32:30.262565",
     "exception": false,
     "start_time": "2022-11-17T03:32:30.187152",
     "status": "completed"
    },
    "tags": []
   },
   "outputs": [
    {
     "data": {
      "text/html": [
       "<div>\n",
       "<style scoped>\n",
       "    .dataframe tbody tr th:only-of-type {\n",
       "        vertical-align: middle;\n",
       "    }\n",
       "\n",
       "    .dataframe tbody tr th {\n",
       "        vertical-align: top;\n",
       "    }\n",
       "\n",
       "    .dataframe thead tr th {\n",
       "        text-align: left;\n",
       "    }\n",
       "</style>\n",
       "<table border=\"1\" class=\"dataframe\">\n",
       "  <thead>\n",
       "    <tr>\n",
       "      <th></th>\n",
       "      <th>Age</th>\n",
       "      <th>Fare</th>\n",
       "      <th>SoloTravel</th>\n",
       "      <th>Pclass_2</th>\n",
       "      <th>Pclass_3</th>\n",
       "      <th>Embarked_Q</th>\n",
       "      <th>Embarked_S</th>\n",
       "      <th>Sex_male</th>\n",
       "    </tr>\n",
       "  </thead>\n",
       "  <tbody>\n",
       "    <tr>\n",
       "      <th>0</th>\n",
       "      <td>0.271174</td>\n",
       "      <td>0.014151</td>\n",
       "      <td>0.0</td>\n",
       "      <td>0.0</td>\n",
       "      <td>1.0</td>\n",
       "      <td>0.0</td>\n",
       "      <td>1.0</td>\n",
       "      <td>1.0</td>\n",
       "    </tr>\n",
       "    <tr>\n",
       "      <th>1</th>\n",
       "      <td>0.472229</td>\n",
       "      <td>0.139136</td>\n",
       "      <td>0.0</td>\n",
       "      <td>0.0</td>\n",
       "      <td>0.0</td>\n",
       "      <td>0.0</td>\n",
       "      <td>0.0</td>\n",
       "      <td>0.0</td>\n",
       "    </tr>\n",
       "    <tr>\n",
       "      <th>2</th>\n",
       "      <td>0.321438</td>\n",
       "      <td>0.015469</td>\n",
       "      <td>1.0</td>\n",
       "      <td>0.0</td>\n",
       "      <td>1.0</td>\n",
       "      <td>0.0</td>\n",
       "      <td>1.0</td>\n",
       "      <td>0.0</td>\n",
       "    </tr>\n",
       "    <tr>\n",
       "      <th>3</th>\n",
       "      <td>0.434531</td>\n",
       "      <td>0.103644</td>\n",
       "      <td>0.0</td>\n",
       "      <td>0.0</td>\n",
       "      <td>0.0</td>\n",
       "      <td>0.0</td>\n",
       "      <td>1.0</td>\n",
       "      <td>0.0</td>\n",
       "    </tr>\n",
       "    <tr>\n",
       "      <th>4</th>\n",
       "      <td>0.434531</td>\n",
       "      <td>0.015713</td>\n",
       "      <td>1.0</td>\n",
       "      <td>0.0</td>\n",
       "      <td>1.0</td>\n",
       "      <td>0.0</td>\n",
       "      <td>1.0</td>\n",
       "      <td>1.0</td>\n",
       "    </tr>\n",
       "  </tbody>\n",
       "</table>\n",
       "</div>"
      ],
      "text/plain": [
       "        Age      Fare SoloTravel Pclass_2 Pclass_3 Embarked_Q Embarked_S  \\\n",
       "0  0.271174  0.014151        0.0      0.0      1.0        0.0        1.0   \n",
       "1  0.472229  0.139136        0.0      0.0      0.0        0.0        0.0   \n",
       "2  0.321438  0.015469        1.0      0.0      1.0        0.0        1.0   \n",
       "3  0.434531  0.103644        0.0      0.0      0.0        0.0        1.0   \n",
       "4  0.434531  0.015713        1.0      0.0      1.0        0.0        1.0   \n",
       "\n",
       "  Sex_male  \n",
       "0      1.0  \n",
       "1      0.0  \n",
       "2      0.0  \n",
       "3      0.0  \n",
       "4      1.0  "
      ]
     },
     "execution_count": 21,
     "metadata": {},
     "output_type": "execute_result"
    }
   ],
   "source": [
    "from sklearn.preprocessing import MinMaxScaler\n",
    "\n",
    "scaler = MinMaxScaler()\n",
    "\n",
    "train_data = scaler.fit_transform(train_data)\n",
    "test_data = scaler.fit_transform(test_data)\n",
    "train_data = pd.DataFrame(train_data,columns=[cols])\n",
    "test_data = pd.DataFrame(test_data,columns=[cols])\n",
    "train_data.head()"
   ]
  },
  {
   "cell_type": "markdown",
   "id": "58005472",
   "metadata": {
    "papermill": {
     "duration": 0.013079,
     "end_time": "2022-11-17T03:32:30.289141",
     "exception": false,
     "start_time": "2022-11-17T03:32:30.276062",
     "status": "completed"
    },
    "tags": []
   },
   "source": [
    "# model and predictions"
   ]
  },
  {
   "cell_type": "code",
   "execution_count": 22,
   "id": "a7370d1f",
   "metadata": {
    "execution": {
     "iopub.execute_input": "2022-11-17T03:32:30.318789Z",
     "iopub.status.busy": "2022-11-17T03:32:30.317507Z",
     "iopub.status.idle": "2022-11-17T03:32:30.771373Z",
     "shell.execute_reply": "2022-11-17T03:32:30.770435Z"
    },
    "papermill": {
     "duration": 0.471147,
     "end_time": "2022-11-17T03:32:30.773925",
     "exception": false,
     "start_time": "2022-11-17T03:32:30.302778",
     "status": "completed"
    },
    "tags": []
   },
   "outputs": [],
   "source": [
    "from sklearn.ensemble import RandomForestClassifier\n",
    "y = train_df['Survived']\n",
    "X = train_data\n",
    "X_test = test_data\n",
    "model = RandomForestClassifier(n_estimators=100,max_depth=5,random_state=1)\n",
    "model.fit(X,y)\n",
    "predictions = model.predict(X_test)"
   ]
  },
  {
   "cell_type": "code",
   "execution_count": 23,
   "id": "061eafdb",
   "metadata": {
    "execution": {
     "iopub.execute_input": "2022-11-17T03:32:30.803198Z",
     "iopub.status.busy": "2022-11-17T03:32:30.802429Z",
     "iopub.status.idle": "2022-11-17T03:32:30.811335Z",
     "shell.execute_reply": "2022-11-17T03:32:30.810102Z"
    },
    "papermill": {
     "duration": 0.026179,
     "end_time": "2022-11-17T03:32:30.813697",
     "exception": false,
     "start_time": "2022-11-17T03:32:30.787518",
     "status": "completed"
    },
    "tags": []
   },
   "outputs": [
    {
     "data": {
      "text/plain": [
       "array([0, 0, 0, 0, 0, 0, 0, 0, 1, 0, 0, 0, 1, 0, 1, 1, 0, 0, 0, 0, 0, 0,\n",
       "       1, 0, 1, 0, 1, 0, 0, 0, 0, 0, 0, 0, 0, 0, 0, 0, 0, 0, 0, 0, 0, 1,\n",
       "       1, 0, 0, 0, 1, 0, 0, 0, 1, 1, 0, 0, 0, 0, 0, 1, 0, 0, 0, 1, 1, 1,\n",
       "       1, 0, 0, 1, 1, 0, 0, 0, 1, 0, 0, 1, 0, 1, 0, 0, 0, 0, 0, 0, 1, 0,\n",
       "       1, 1, 0, 0, 1, 0, 0, 0, 1, 0, 0, 0, 1, 0, 0, 0, 1, 0, 0, 0, 0, 0,\n",
       "       0, 1, 1, 1, 1, 0, 0, 1, 0, 1, 1, 0, 1, 0, 0, 0, 0, 1, 0, 0, 0, 0,\n",
       "       0, 0, 0, 0, 0, 0, 0, 0, 0, 1, 0, 0, 0, 0, 0, 0, 0, 0, 1, 0, 0, 0,\n",
       "       0, 0, 1, 0, 0, 0, 1, 0, 1, 0, 0, 0, 0, 0, 1, 0, 0, 0, 0, 0, 0, 1,\n",
       "       1, 0, 1, 1, 0, 0, 1, 0, 1, 0, 1, 0, 0, 0, 0, 0, 0, 0, 1, 0, 1, 0,\n",
       "       0, 0, 1, 1, 0, 1, 0, 0, 0, 0, 1, 0, 0, 0, 0, 1, 0, 0, 1, 0, 1, 0,\n",
       "       1, 0, 1, 0, 1, 1, 0, 1, 0, 0, 0, 1, 0, 0, 0, 0, 0, 0, 1, 1, 1, 1,\n",
       "       0, 0, 0, 0, 1, 0, 1, 1, 1, 0, 0, 0, 0, 0, 0, 0, 1, 0, 0, 0, 1, 1,\n",
       "       0, 0, 0, 0, 0, 0, 0, 0, 1, 1, 0, 1, 0, 0, 0, 0, 0, 1, 1, 1, 0, 0,\n",
       "       0, 0, 0, 0, 0, 0, 0, 0, 0, 0, 1, 0, 0, 0, 0, 0, 0, 0, 1, 1, 0, 0,\n",
       "       0, 0, 0, 0, 0, 0, 1, 1, 0, 0, 0, 0, 0, 0, 0, 0, 1, 0, 1, 0, 0, 0,\n",
       "       1, 0, 0, 1, 0, 0, 0, 0, 0, 0, 0, 0, 0, 1, 0, 0, 0, 0, 0, 1, 1, 0,\n",
       "       0, 0, 1, 0, 1, 0, 0, 0, 0, 1, 1, 0, 1, 0, 0, 0, 1, 0, 0, 1, 0, 0,\n",
       "       1, 1, 0, 0, 0, 0, 0, 0, 0, 0, 0, 1, 0, 0, 0, 0, 0, 1, 0, 0, 0, 1,\n",
       "       0, 1, 0, 0, 1, 0, 1, 0, 0, 0, 0, 0, 1, 1, 1, 1, 0, 0, 1, 0, 0, 0])"
      ]
     },
     "execution_count": 23,
     "metadata": {},
     "output_type": "execute_result"
    }
   ],
   "source": [
    "predictions"
   ]
  },
  {
   "cell_type": "code",
   "execution_count": 24,
   "id": "0cd67f7c",
   "metadata": {
    "execution": {
     "iopub.execute_input": "2022-11-17T03:32:30.842671Z",
     "iopub.status.busy": "2022-11-17T03:32:30.842255Z",
     "iopub.status.idle": "2022-11-17T03:32:30.853467Z",
     "shell.execute_reply": "2022-11-17T03:32:30.852138Z"
    },
    "papermill": {
     "duration": 0.029711,
     "end_time": "2022-11-17T03:32:30.856989",
     "exception": false,
     "start_time": "2022-11-17T03:32:30.827278",
     "status": "completed"
    },
    "tags": []
   },
   "outputs": [
    {
     "name": "stdout",
     "output_type": "stream",
     "text": [
      "submission successfully saved!\n"
     ]
    }
   ],
   "source": [
    "# submission\n",
    "output = pd.DataFrame({'PassengerId':test_df.PassengerId,'Survived':predictions})\n",
    "output.to_csv('submission.csv',index=False)\n",
    "print('submission successfully saved!')\n"
   ]
  }
 ],
 "metadata": {
  "kernelspec": {
   "display_name": "Python 3",
   "language": "python",
   "name": "python3"
  },
  "language_info": {
   "codemirror_mode": {
    "name": "ipython",
    "version": 3
   },
   "file_extension": ".py",
   "mimetype": "text/x-python",
   "name": "python",
   "nbconvert_exporter": "python",
   "pygments_lexer": "ipython3",
   "version": "3.7.12"
  },
  "papermill": {
   "default_parameters": {},
   "duration": 14.024411,
   "end_time": "2022-11-17T03:32:31.694504",
   "environment_variables": {},
   "exception": null,
   "input_path": "__notebook__.ipynb",
   "output_path": "__notebook__.ipynb",
   "parameters": {},
   "start_time": "2022-11-17T03:32:17.670093",
   "version": "2.3.4"
  }
 },
 "nbformat": 4,
 "nbformat_minor": 5
}
